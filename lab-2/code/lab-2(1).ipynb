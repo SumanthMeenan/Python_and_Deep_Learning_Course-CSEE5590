{
 "cells": [
  {
   "cell_type": "markdown",
   "metadata": {},
   "source": [
    "### Problem-1"
   ]
  },
  {
   "cell_type": "markdown",
   "metadata": {},
   "source": [
    "Consider a shop UMKC with dictionary of all book items with their prices. Write a program to \n",
    "find the books from the dictionary in the range given by user. "
   ]
  },
  {
   "cell_type": "code",
   "execution_count": 45,
   "metadata": {
    "scrolled": true
   },
   "outputs": [
    {
     "name": "stdout",
     "output_type": "stream",
     "text": [
      "these are the books you can buy: python java\n"
     ]
    }
   ],
   "source": [
    "# giving names of books and prices in a dictionary called d\n",
    "d={\"python\":20,\"web\":40,\"c\":30,\"java\":10}\n",
    "lst=[]\n",
    "# books in range of 10 and 20\n",
    "for k,v in d.iteritems():\n",
    "    if v>=10 and v<=20:\n",
    "        lst.append(k)\n",
    "print \"these are the books you can buy: \" + \" \".join(str(x)for x in lst)"
   ]
  },
  {
   "cell_type": "markdown",
   "metadata": {},
   "source": [
    "## Problem-2"
   ]
  },
  {
   "cell_type": "markdown",
   "metadata": {},
   "source": [
    "With any given number n,  \n",
    "In any mobile , there is contact list. Create a list of contacts and then prompt the user to do the \n",
    "following: \n",
    "a)Display contact by name \n",
    "b)Display contact by number \n",
    "c)Edit contact by name \n",
    "d)Exit "
   ]
  },
  {
   "cell_type": "code",
   "execution_count": 85,
   "metadata": {},
   "outputs": [
    {
     "name": "stdout",
     "output_type": "stream",
     "text": [
      "['a', 'b', 'c', 'd']\n",
      "[1111111111, 2222222222L, 3333333333L, 4444444444L]\n",
      "modified list is: {'email': 'a@gmail.com', 'name': 'a', 'number': 6666666666L}\n",
      "exited\n",
      "{'email': 'c@gmail.com', 'name': 'c', 'number': 3333333333L}\n",
      "{'email': 'a@gmail.com', 'name': 'a', 'number': 6666666666L}\n",
      "{'email': 'b@gmail.com', 'name': 'b', 'number': 2222222222L}\n",
      "{'email': 'd@gmail.com', 'name': 'd', 'number': 4444444444L}\n"
     ]
    }
   ],
   "source": [
    "# creating a contact list with list\n",
    "inp=[{\"name\":'c',\"number\":3333333333,\"email\":\"c@gmail.com\"},{\"name\":\"a\",\"number\":1111111111,\"email\":\"a@gmail.com\"},\n",
    "     {\"name\":\"b\",\"number\":2222222222,\"email\":\"b@gmail.com\"}, {\"name\":\"d\",\"number\":4444444444,\"email\":\"d@gmail.com\"}]\n",
    "\n",
    "# Sorting b_name\n",
    "def by_name(inp):\n",
    "    lst=[]\n",
    "    # Searching foe name\n",
    "    for ele in range(len(inp)):\n",
    "            lst.append(inp[ele][\"name\"])\n",
    "    # Sorting them\n",
    "    return sorted(lst)\n",
    "\n",
    "# Sorting by number\n",
    "def by_number(inp):\n",
    "    lst=[]\n",
    "    # Searching for number\n",
    "    for ele in range(len(inp)):\n",
    "        lst.append(inp[ele][\"number\"])\n",
    "    # Sorting them \n",
    "    lst.sort()\n",
    "    return lst\n",
    "\n",
    "# Edit contact by name\n",
    "def edit_name(inp,given_name,modified_number):\n",
    "    for ele in range(len(inp)):\n",
    "        # checking for the given name\n",
    "        if inp[ele][\"name\"]==given_name:\n",
    "            #modifing number\n",
    "            inp[ele][\"number\"]=modified_number\n",
    "            print \"modified list is: \"+str(inp[ele])\n",
    "            \n",
    "# exiting and printing all the modified contact list\n",
    "def exit():\n",
    "    print \"exited\"\n",
    "    for ele in range(len(inp)):\n",
    "        print inp[ele]\n",
    "        \n",
    "        \n",
    "\n",
    "#driver functions\n",
    "print by_name(inp)\n",
    "print by_number(inp)  \n",
    "edit_name(inp,\"a\",6666666666)\n",
    "exit()"
   ]
  },
  {
   "cell_type": "markdown",
   "metadata": {
    "collapsed": true
   },
   "source": [
    "## Problem-4"
   ]
  },
  {
   "cell_type": "markdown",
   "metadata": {},
   "source": [
    "Using Numpy create random vector of size 15 having only Integers in the range 0 -20. Write a \n",
    "program to find the most frequent item/value in the vector list."
   ]
  },
  {
   "cell_type": "code",
   "execution_count": 95,
   "metadata": {},
   "outputs": [
    {
     "name": "stdout",
     "output_type": "stream",
     "text": [
      "[4 1 0 1 3 1 0 2 0 0 1 0 4 3 4]\n",
      "the most frequent number is :0\n"
     ]
    }
   ],
   "source": [
    "import numpy as np\n",
    "# creating random number with max number as 5 and size=15\n",
    "a = np.random.randint(5,size=15)\n",
    "print a\n",
    "# counting the most frequent element\n",
    "counts = np.bincount(a)\n",
    "print \"the most frequent number is :\" +str(np.argmax(counts))"
   ]
  }
 ],
 "metadata": {
  "kernelspec": {
   "display_name": "Python 3",
   "language": "python",
   "name": "python3"
  },
  "language_info": {
   "codemirror_mode": {
    "name": "ipython",
    "version": 3
   },
   "file_extension": ".py",
   "mimetype": "text/x-python",
   "name": "python",
   "nbconvert_exporter": "python",
   "pygments_lexer": "ipython3",
   "version": "3.6.2"
  }
 },
 "nbformat": 4,
 "nbformat_minor": 2
}
